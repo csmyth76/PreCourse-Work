{
 "cells": [
  {
   "cell_type": "code",
   "execution_count": null,
   "metadata": {},
   "outputs": [],
   "source": [
    "#unit 3 Lesson 2 Project 4\n",
    "# 1) 0.0625; all are 1/2 * 1/2 * 1/2 * 1/2; same probability whether looking for heads or tails\n",
    "# 2) 0.53; basically 24/45\n",
    "# 3) probabily of two independent events: 10% * .005% = 0.0005%\n",
    "# 4) The data is unrelated.  Where is time surfing collected?\n",
    "# If time surfing is collected from analytics then the 5% chance\n",
    "# of a survey is irrelvent to how long a user spends on the site.\n",
    "# Conclude how long someone spends on the site from the analytics."
   ]
  }
 ],
 "metadata": {
  "kernelspec": {
   "display_name": "Python 3",
   "language": "python",
   "name": "python3"
  },
  "language_info": {
   "codemirror_mode": {
    "name": "ipython",
    "version": 3
   },
   "file_extension": ".py",
   "mimetype": "text/x-python",
   "name": "python",
   "nbconvert_exporter": "python",
   "pygments_lexer": "ipython3",
   "version": "3.6.3"
  }
 },
 "nbformat": 4,
 "nbformat_minor": 2
}
