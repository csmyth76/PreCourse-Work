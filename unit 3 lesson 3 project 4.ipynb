{
 "cells": [
  {
   "cell_type": "code",
   "execution_count": 2,
   "metadata": {},
   "outputs": [],
   "source": [
    "#unit 3 lesson 3 project 4\n",
    "import numpy as np\n",
    "import pandas as pd\n",
    "import matplotlib.pyplot as plt\n",
    "%matplotlib inline"
   ]
  },
  {
   "cell_type": "code",
   "execution_count": 12,
   "metadata": {},
   "outputs": [
    {
     "data": {
      "image/png": "[encoded data removed]",
      "text/plain": [
       "<matplotlib.figure.Figure at 0x10a7f6780>"
      ]
     },
     "metadata": {},
     "output_type": "display_data"
    },
    {
     "data": {
      "image/png": "[encoded data removed]",
      "text/plain": [
       "<matplotlib.figure.Figure at 0x10a8dde48>"
      ]
     },
     "metadata": {},
     "output_type": "display_data"
    }
   ],
   "source": [
    "# 1\n",
    "bernoulli= np.random.binomial(1, .5, 100)\n",
    "\n",
    "# 2\n",
    "plt.hist(bernoulli)\n",
    "\n",
    "# 3 \n",
    "mean = np.mean(bernoulli)\n",
    "sd = np.std(bernoulli)\n",
    "plt.axvline(x=mean, color='black')\n",
    "plt.axvline(x=mean+sd, color='black')\n",
    "plt.axvline(x=mean-sd, color='black')\n",
    "\n",
    "plt.show()\n",
    "\n",
    "# 1\n",
    "normal5= np.random.normal(.5, 5, 100)\n",
    "normal10= np.random.normal(1, 10, 100)\n",
    "\n",
    "#2\n",
    "normalsum=normal5 + normal10\n",
    "\n",
    "#3\n",
    "plt.hist(normalsum)\n",
    "\n",
    "#4\n",
    "mean = np.mean(normalsum)\n",
    "sd = np.std(normalsum)\n",
    "plt.axvline(x=mean, color='black')\n",
    "plt.axvline(x=mean+sd, color='black')\n",
    "plt.axvline(x=mean-sd, color='black')\n",
    "\n",
    "plt.show()\n",
    "\n"
   ]
  },
  {
   "cell_type": "code",
   "execution_count": null,
   "metadata": {},
   "outputs": [],
   "source": []
  }
 ],
 "metadata": {
  "kernelspec": {
   "display_name": "Python 3",
   "language": "python",
   "name": "python3"
  },
  "language_info": {
   "codemirror_mode": {
    "name": "ipython",
    "version": 3
   },
   "file_extension": ".py",
   "mimetype": "text/x-python",
   "name": "python",
   "nbconvert_exporter": "python",
   "pygments_lexer": "ipython3",
   "version": "3.6.3"
  }
 },
 "nbformat": 4,
 "nbformat_minor": 2
}
