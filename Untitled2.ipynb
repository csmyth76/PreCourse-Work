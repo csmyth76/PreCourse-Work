{
 "cells": [
  {
   "cell_type": "code",
   "execution_count": null,
   "metadata": {},
   "outputs": [],
   "source": [
    "#unit 3 Lesson 2 Project 6\n",
    "# A diagnostic test has a 98% probability of giving a positive result \n",
    "# when applied to a person suffering from Thripshaw's Disease, and 10% \n",
    "# probability of giving a (false) positive when applied to a non-sufferer. \n",
    "# It is estimated that 0.5 % of the population are sufferers. Suppose that \n",
    "# the test is now administered to a person whose disease status is unknown. \n",
    "# Calculate the probability that the test will:\n",
    "\n",
    "# intuition:\n",
    "# Be positive - high percentage for positive (false or not): 80%\n",
    "# Correctly diagnose a sufferer of Thripshaw's: 98%... it says it in the problem statement\n",
    "# Correctly identify a non-sufferer of Thripshaw's:  High, 80% \n",
    "# Misclassify the person: High 80%\n",
    "\n",
    "positive= .98*.005 + .1*.995 = .1044\n",
    "Correctly diagnose a sufferer: .98\n",
    "Correctly identify a non-sufferer: .9\n",
    "Misclassify = 1-(.98*.005 + .9*.995)=.0996"
   ]
  }
 ],
 "metadata": {
  "kernelspec": {
   "display_name": "Python 3",
   "language": "python",
   "name": "python3"
  },
  "language_info": {
   "codemirror_mode": {
    "name": "ipython",
    "version": 3
   },
   "file_extension": ".py",
   "mimetype": "text/x-python",
   "name": "python",
   "nbconvert_exporter": "python",
   "pygments_lexer": "ipython3",
   "version": "3.6.3"
  }
 },
 "nbformat": 4,
 "nbformat_minor": 2
}
