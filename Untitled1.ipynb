{
 "cells": [
  {
   "cell_type": "code",
   "execution_count": 4,
   "metadata": {},
   "outputs": [
    {
     "name": "stdout",
     "output_type": "stream",
     "text": [
      "#1\n",
      "mean:  9.85714285714\n",
      "median:  10.0\n",
      "variance:  6.40816326531\n",
      "std. deviation : 2.53143502095\n",
      "standard error : 1.03345401972\n",
      "Mode is 8\n"
     ]
    }
   ],
   "source": [
    "#unit 3 Lesson 1 Project 5\n",
    "# 1) \n",
    "\n",
    "import numpy as np\n",
    "ages =[14,12,11,10,8,6,8]\n",
    "\n",
    "print(\"#1\")\n",
    "print(\"mean: \",np.mean(ages))\n",
    "print(\"median: \",np.median(ages))\n",
    "print(\"variance: \",np.var(ages))\n",
    "print(\"std. deviation :\",np.std(ages))\n",
    "print(\"standard error :\",np.std(ages)/np.sqrt(len(ages)-1))\n",
    "print(\"Mode is 8\")"
   ]
  },
  {
   "cell_type": "code",
   "execution_count": null,
   "metadata": {},
   "outputs": [],
   "source": [
    "#2\n",
    "# What is the purpose of esitmating childerens ages and why do we need to choose?\n",
    "# Why does the standard deviation of the age matter?\n",
    "# I would choose median since, according to the curriculum, it has more mathematical significance\n",
    "# (maybe someday I will know what that \"means\" and why).  The median is close to the mean so\n",
    "# it doesn't matter which is used.  \n",
    "# Again, the standard error or deviation would depend WHY you are esitamting ages.  I would \n",
    "# use deviation since I used mean initially."
   ]
  },
  {
   "cell_type": "code",
   "execution_count": 6,
   "metadata": {},
   "outputs": [
    {
     "name": "stdout",
     "output_type": "stream",
     "text": [
      "#3\n",
      "mean:  10.0\n",
      "median:  10.0\n",
      "variance:  5.42857142857\n",
      "std. deviation : 2.32992949004\n",
      "standard error : 0.951189731211\n",
      "Mode is 8\n"
     ]
    }
   ],
   "source": [
    "#3\n",
    "import numpy as np\n",
    "ages =[14,12,11,10,8,7,8]\n",
    "\n",
    "print(\"#3\")\n",
    "print(\"mean: \",np.mean(ages))\n",
    "print(\"median: \",np.median(ages))\n",
    "print(\"variance: \",np.var(ages))\n",
    "print(\"std. deviation :\",np.std(ages))\n",
    "print(\"standard error :\",np.std(ages)/np.sqrt(len(ages)-1))\n",
    "print(\"Mode is 8\")"
   ]
  },
  {
   "cell_type": "code",
   "execution_count": null,
   "metadata": {},
   "outputs": [],
   "source": [
    "# The Mean and Median now match\n",
    "# Varian and Standard Error decreased"
   ]
  },
  {
   "cell_type": "code",
   "execution_count": 9,
   "metadata": {},
   "outputs": [
    {
     "name": "stdout",
     "output_type": "stream",
     "text": [
      "#4\n",
      "mean:  10.3333333333\n",
      "median:  10.5\n",
      "variance:  5.55555555556\n",
      "std. deviation : 2.35702260396\n",
      "standard error : 1.05409255339\n",
      "No Mode, nothing repeats\n"
     ]
    }
   ],
   "source": [
    "#4\n",
    "import numpy as np\n",
    "ages =[14,12,11,10,8,7]\n",
    "\n",
    "print(\"#4\")\n",
    "print(\"mean: \",np.mean(ages))\n",
    "print(\"median: \",np.median(ages))\n",
    "print(\"variance: \",np.var(ages))\n",
    "print(\"std. deviation :\",np.std(ages))\n",
    "print(\"standard error :\",np.std(ages)/np.sqrt(len(ages)-1))\n",
    "print(\"No Mode, nothing repeats\")"
   ]
  },
  {
   "cell_type": "code",
   "execution_count": null,
   "metadata": {},
   "outputs": [],
   "source": [
    "# No.  Mean and Median are still close so same logic as #1 still applies"
   ]
  },
  {
   "cell_type": "code",
   "execution_count": 11,
   "metadata": {},
   "outputs": [
    {
     "name": "stdout",
     "output_type": "stream",
     "text": [
      "#5\n",
      "The average percentage of people who answer entertainment magazine polls and\n",
      "were Brady Bunch fans on the 50th anniversary of the show would be  20.0\n"
     ]
    }
   ],
   "source": [
    "#5\n",
    "# Not enough data to estimate Adult Americans...\n",
    "# The estimated percentage of people who answer polls in mags related to media consumption and\n",
    "# were Brady Bunch fans on the 50th anniversary of the show would be 20%\n",
    "# Drop the SciFi mag since it's not an entertainment mag.  Get other SciFi mags if\n",
    "# you want that percentage.\n",
    "import numpy as np\n",
    "entertainment_mag_avgs =[20,23,17]\n",
    "\n",
    "print(\"#5\")\n",
    "print(\"The estimated percentage of people who answer polls in mags related to media consumption and\")\n",
    "print(\"were Brady Bunch fans on the 50th anniversary of the show would be \",np.mean(entertainment_mag_avgs))"
   ]
  },
  {
   "cell_type": "code",
   "execution_count": null,
   "metadata": {},
   "outputs": [],
   "source": []
  }
 ],
 "metadata": {
  "kernelspec": {
   "display_name": "Python 3",
   "language": "python",
   "name": "python3"
  },
  "language_info": {
   "codemirror_mode": {
    "name": "ipython",
    "version": 3
   },
   "file_extension": ".py",
   "mimetype": "text/x-python",
   "name": "python",
   "nbconvert_exporter": "python",
   "pygments_lexer": "ipython3",
   "version": "3.6.3"
  }
 },
 "nbformat": 4,
 "nbformat_minor": 2
}
