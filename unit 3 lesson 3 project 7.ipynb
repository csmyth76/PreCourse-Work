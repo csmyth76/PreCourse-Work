{
 "cells": [
  {
   "cell_type": "code",
   "execution_count": 1,
   "metadata": {},
   "outputs": [],
   "source": [
    "#unit 3 lesson 3 project 7\n",
    "import numpy as np\n",
    "import pandas as pd\n",
    "import matplotlib.pyplot as plt"
   ]
  },
  {
   "cell_type": "code",
   "execution_count": 11,
   "metadata": {},
   "outputs": [
    {
     "name": "stdout",
     "output_type": "stream",
     "text": [
      "mean sample 1:  2.65\n",
      "mean sample 2:  5.05\n",
      "standard deviation sample 1:  1.58981130956\n",
      "standard deviation sample 1:  1.49916643506\n",
      "diff between means:  2.4\n"
     ]
    },
    {
     "data": {
      "image/png": "[encoded data removed]",
      "text/plain": [
       "<matplotlib.figure.Figure at 0x113cd60f0>"
      ]
     },
     "metadata": {},
     "output_type": "display_data"
    }
   ],
   "source": [
    "# 1\n",
    "pop1 = np.random.binomial(10, 0.2, 10000)\n",
    "pop2 = np.random.binomial(10,0.5, 10000)\n",
    "\n",
    "sample1 = np.random.choice(pop1, 20, replace=True)\n",
    "sample2 = np.random.choice(pop2, 20, replace=True)\n",
    "\n",
    "# 1 \n",
    "# THEY ALL CHANGE SLIGHTLY BUT NOT MUCH\n",
    "# 100\n",
    "#mean sample 1:  2.03\n",
    "#mean sample 2:  5.01\n",
    "#standard deviation sample 1:  1.21206435473\n",
    "#standard deviation sample 1:  1.5066187308\n",
    "\n",
    "# 20\n",
    "# mean sample 1:  2.65\n",
    "# mean sample 2:  5.05\n",
    "# standard deviation sample 1:  1.58981130956\n",
    "# standard deviation sample 1:  1.49916643506\n",
    "\n",
    "# 2\n",
    "\n",
    "print(\"mean sample 1: \", sample1.mean())\n",
    "print(\"mean sample 2: \", sample2.mean())\n",
    "print(\"standard deviation sample 1: \", sample1.std())\n",
    "print(\"standard deviation sample 1: \", sample2.std())\n",
    "\n",
    "plt.hist(sample1, alpha=0.5, label='sample 1') \n",
    "plt.hist(sample2, alpha=0.5, label='sample 2') \n",
    "plt.legend(loc='upper right') \n",
    "plt.show()"
   ]
  },
  {
   "cell_type": "code",
   "execution_count": 13,
   "metadata": {},
   "outputs": [
    {
     "name": "stdout",
     "output_type": "stream",
     "text": [
      "mean sample 1:  3.6\n",
      "mean sample 2:  5.8\n",
      "standard deviation sample 1:  1.42828568571\n",
      "standard deviation sample 1:  1.83303027798\n"
     ]
    },
    {
     "data": {
      "image/png": "[encoded data removed]",
      "text/plain": [
       "<matplotlib.figure.Figure at 0x11414bf98>"
      ]
     },
     "metadata": {},
     "output_type": "display_data"
    }
   ],
   "source": [
    "# 2 ALLS OF THE VALUSE CAHNGE AGAIN, BUT SLIGHTLY\n",
    "pop1 = np.random.binomial(10, 0.4, 10000)\n",
    "pop2 = np.random.binomial(10,0.5, 10000)\n",
    "\n",
    "sample1 = np.random.choice(pop1, 20, replace=True)\n",
    "sample2 = np.random.choice(pop2, 20, replace=True)\n",
    "\n",
    "# .3\n",
    "# mean sample 1:  3.15\n",
    "# mean sample 2:  5.2\n",
    "# standard deviation sample 1:  1.27573508222\n",
    "# standard deviation sample 1:  1.72046505341\n",
    "# .4\n",
    "# mean sample 1:  3.6\n",
    "# mean sample 2:  5.8\n",
    "# standard deviation sample 1:  1.42828568571\n",
    "# standard deviation sample 1:  1.83303027798\n",
    "\n",
    "print(\"mean sample 1: \", sample1.mean())\n",
    "print(\"mean sample 2: \", sample2.mean())\n",
    "print(\"standard deviation sample 1: \", sample1.std())\n",
    "print(\"standard deviation sample 1: \", sample2.std())\n",
    "\n",
    "plt.hist(sample1, alpha=0.5, label='sample 1') \n",
    "plt.hist(sample2, alpha=0.5, label='sample 2') \n",
    "plt.legend(loc='upper right') \n",
    "plt.show()"
   ]
  },
  {
   "cell_type": "code",
   "execution_count": 14,
   "metadata": {},
   "outputs": [
    {
     "name": "stdout",
     "output_type": "stream",
     "text": [
      "mean sample 1:  4.29351857419\n",
      "mean sample 2:  5.64539402869\n",
      "standard deviation sample 1:  1.1819520567\n",
      "standard deviation sample 1:  1.30154394621\n"
     ]
    },
    {
     "data": {
      "image/png": "[encoded data removed]",
      "text/plain": [
       "<matplotlib.figure.Figure at 0x11435f2e8>"
      ]
     },
     "metadata": {},
     "output_type": "display_data"
    }
   ],
   "source": [
    "# 3 AGAIN, EVERYTHING CHANGES BUT ONLY SLIGHTLY\n",
    "pop1 = np.random.gamma(10, 0.4, 10000)\n",
    "pop2 = np.random.gamma(10,0.5, 10000)\n",
    "\n",
    "sample1 = np.random.choice(pop1, 20, replace=True)\n",
    "sample2 = np.random.choice(pop2, 20, replace=True)\n",
    "\n",
    "print(\"mean sample 1: \", sample1.mean())\n",
    "print(\"mean sample 2: \", sample2.mean())\n",
    "print(\"standard deviation sample 1: \", sample1.std())\n",
    "print(\"standard deviation sample 1: \", sample2.std())\n",
    "\n",
    "plt.hist(sample1, alpha=0.5, label='sample 1') \n",
    "plt.hist(sample2, alpha=0.5, label='sample 2') \n",
    "plt.legend(loc='upper right') \n",
    "plt.show()"
   ]
  },
  {
   "cell_type": "code",
   "execution_count": null,
   "metadata": {},
   "outputs": [],
   "source": []
  }
 ],
 "metadata": {
  "kernelspec": {
   "display_name": "Python 3",
   "language": "python",
   "name": "python3"
  },
  "language_info": {
   "codemirror_mode": {
    "name": "ipython",
    "version": 3
   },
   "file_extension": ".py",
   "mimetype": "text/x-python",
   "name": "python",
   "nbconvert_exporter": "python",
   "pygments_lexer": "ipython3",
   "version": "3.6.3"
  }
 },
 "nbformat": 4,
 "nbformat_minor": 2
}
